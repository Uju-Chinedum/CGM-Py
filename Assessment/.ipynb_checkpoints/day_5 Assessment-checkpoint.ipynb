{
 "cells": [
  {
   "cell_type": "code",
   "execution_count": 1,
   "id": "faacdeb2",
   "metadata": {},
   "outputs": [
    {
     "name": "stdout",
     "output_type": "stream",
     "text": [
      "The Zen of Python, by Tim Peters\n",
      "\n",
      "Beautiful is better than ugly.\n",
      "Explicit is better than implicit.\n",
      "Simple is better than complex.\n",
      "Complex is better than complicated.\n",
      "Flat is better than nested.\n",
      "Sparse is better than dense.\n",
      "Readability counts.\n",
      "Special cases aren't special enough to break the rules.\n",
      "Although practicality beats purity.\n",
      "Errors should never pass silently.\n",
      "Unless explicitly silenced.\n",
      "In the face of ambiguity, refuse the temptation to guess.\n",
      "There should be one-- and preferably only one --obvious way to do it.\n",
      "Although that way may not be obvious at first unless you're Dutch.\n",
      "Now is better than never.\n",
      "Although never is often better than *right* now.\n",
      "If the implementation is hard to explain, it's a bad idea.\n",
      "If the implementation is easy to explain, it may be a good idea.\n",
      "Namespaces are one honking great idea -- let's do more of those!\n"
     ]
    }
   ],
   "source": [
    "import this"
   ]
  },
  {
   "cell_type": "markdown",
   "id": "d7b089f4",
   "metadata": {},
   "source": [
    "# Let's Code"
   ]
  },
  {
   "cell_type": "code",
   "execution_count": 7,
   "id": "ed640bbf",
   "metadata": {},
   "outputs": [],
   "source": [
    "dict_file = [{\"name\": \"jake\", \"age\":30, \"Married\": True, \"Sex\": \"male\", \"Salary\": 5000},\n",
    "            {\"name\": \"fani\", \"age\":20, \"Married\": True, \"Sex\": \"female\", \"Salary\": 2000},\n",
    "             {\"name\": \"beeniel\", \"age\":25, \"Married\": False, \"Sex\": \"male\", \"Salary\": 10000},\n",
    "             {\"name\": \"susan\", \"age\":21, \"Married\": False, \"Sex\": \"female\", \"Salary\": 8000}\n",
    "            ]"
   ]
  },
  {
   "cell_type": "code",
   "execution_count": 12,
   "id": "239a409d",
   "metadata": {},
   "outputs": [
    {
     "name": "stdout",
     "output_type": "stream",
     "text": [
      "[{'name': 'jake', 'age': 30, 'Married': True, 'Sex': 'male', 'Salary': 5000}, {'name': 'beeniel', 'age': 25, 'Married': False, 'Sex': 'male', 'Salary': 10000}]\n",
      "[{'name': 'jake', 'age': 30, 'Married': True, 'Sex': 'male', 'Salary': 5250.0}, {'name': 'beeniel', 'age': 25, 'Married': False, 'Sex': 'male', 'Salary': 10000}]\n"
     ]
    }
   ],
   "source": [
    "salary_arr = []\n",
    "for dicts in dict_file:\n",
    "    for key, val in dicts.items():\n",
    "        if key == \"age\" and (val >= 25 and val <= 30):\n",
    "            salary_arr.append(dicts)\n",
    "print(salary_arr)\n",
    "            \n",
    "for dicts in salary_arr:\n",
    "    for key, val in dicts.items():\n",
    "        if key == \"Married\" and val == True:\n",
    "            new_sal = (5 / 100) * dicts[\"Salary\"]\n",
    "            dicts[\"Salary\"] = dicts[\"Salary\"] + new_sal\n",
    "            \n",
    "print(salary_arr)"
   ]
  },
  {
   "cell_type": "code",
   "execution_count": 14,
   "id": "858c3e43",
   "metadata": {},
   "outputs": [
    {
     "name": "stdout",
     "output_type": "stream",
     "text": [
      "[{'name': 'jake', 'age': 30, 'Married': True, 'Sex': 'male', 'Salary': 5250.0}, {'name': 'fani', 'age': 20, 'Married': True, 'Sex': 'female', 'Salary': 2000}]\n",
      "jake\n"
     ]
    }
   ],
   "source": [
    "married_male = []\n",
    "for dicts in dict_file:\n",
    "    for key, val in dicts.items():\n",
    "        if key == \"Married\" and val == True:\n",
    "            married_male.append(dicts)\n",
    "print(married_male)\n",
    "\n",
    "for dicts in married_male:\n",
    "    for key, val in dicts.items():\n",
    "        if key == \"Sex\" and val == \"male\":\n",
    "            print(dicts[\"name\"])"
   ]
  }
 ],
 "metadata": {
  "kernelspec": {
   "display_name": "Python 3 (ipykernel)",
   "language": "python",
   "name": "python3"
  },
  "language_info": {
   "codemirror_mode": {
    "name": "ipython",
    "version": 3
   },
   "file_extension": ".py",
   "mimetype": "text/x-python",
   "name": "python",
   "nbconvert_exporter": "python",
   "pygments_lexer": "ipython3",
   "version": "3.9.12"
  }
 },
 "nbformat": 4,
 "nbformat_minor": 5
}
