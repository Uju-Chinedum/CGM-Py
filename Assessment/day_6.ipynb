{
 "cells": [
  {
   "cell_type": "code",
   "execution_count": 1,
   "id": "54ac41ee",
   "metadata": {},
   "outputs": [
    {
     "name": "stdout",
     "output_type": "stream",
     "text": [
      "The Zen of Python, by Tim Peters\n",
      "\n",
      "Beautiful is better than ugly.\n",
      "Explicit is better than implicit.\n",
      "Simple is better than complex.\n",
      "Complex is better than complicated.\n",
      "Flat is better than nested.\n",
      "Sparse is better than dense.\n",
      "Readability counts.\n",
      "Special cases aren't special enough to break the rules.\n",
      "Although practicality beats purity.\n",
      "Errors should never pass silently.\n",
      "Unless explicitly silenced.\n",
      "In the face of ambiguity, refuse the temptation to guess.\n",
      "There should be one-- and preferably only one --obvious way to do it.\n",
      "Although that way may not be obvious at first unless you're Dutch.\n",
      "Now is better than never.\n",
      "Although never is often better than *right* now.\n",
      "If the implementation is hard to explain, it's a bad idea.\n",
      "If the implementation is easy to explain, it may be a good idea.\n",
      "Namespaces are one honking great idea -- let's do more of those!\n"
     ]
    }
   ],
   "source": [
    "import this"
   ]
  },
  {
   "cell_type": "markdown",
   "id": "b5633dfe",
   "metadata": {},
   "source": [
    "# Let's Study!!"
   ]
  },
  {
   "cell_type": "code",
   "execution_count": 2,
   "id": "834f207e",
   "metadata": {},
   "outputs": [
    {
     "name": "stdout",
     "output_type": "stream",
     "text": [
      "[{'name': 'tobi', 'scores': {'eng': 55, 'math': 75, 'econs': 95}, 'class': 'ss1', 'family': 'both'}, {'name': 'manuel', 'scores': {'eng': 44, 'math': 65, 'econs': 79}, 'class': 'ss2', 'family': 'single'}]\n"
     ]
    }
   ],
   "source": [
    "dict_data =[{\"name\":\"tobi\", \"scores\": {\"eng\": 55,\n",
    "                                      \"math\": 75,\n",
    "                                      \"econs\":95},\n",
    "            \"class\": \"ss1\",\n",
    "            \"family\" : \"both\"},\n",
    "            {\"name\": \"manuel\", \"scores\": {\"eng\": 44,\n",
    "                                         \"math\": 65,\n",
    "                                         \"econs\": 79 },\n",
    "            \"class\": \"ss2\",\n",
    "            \"family\": \"single\"}]\n",
    "print(dict_data)"
   ]
  },
  {
   "cell_type": "markdown",
   "id": "2756e0f2",
   "metadata": {},
   "source": [
    "1. find the average scores for each of the student\n",
    "2. add that average score inside the dictionary i.e : \"average\" : 50\n",
    "3. write a query that will select all students in ss2 and in both\n",
    "4. what is the modal score for tobi"
   ]
  },
  {
   "cell_type": "code",
   "execution_count": 3,
   "id": "72e5f236",
   "metadata": {},
   "outputs": [
    {
     "data": {
      "text/plain": [
       "[{'name': 'tobi',\n",
       "  'scores': {'eng': 55, 'math': 75, 'econs': 95},\n",
       "  'class': 'ss1',\n",
       "  'family': 'both',\n",
       "  'average': 75.0},\n",
       " {'name': 'manuel',\n",
       "  'scores': {'eng': 44, 'math': 65, 'econs': 79},\n",
       "  'class': 'ss2',\n",
       "  'family': 'single',\n",
       "  'average': 62.666666666666664}]"
      ]
     },
     "execution_count": 3,
     "metadata": {},
     "output_type": "execute_result"
    }
   ],
   "source": [
    "for i in range(len(dict_data)):\n",
    "    avg_arr = []\n",
    "    for k, v in dict_data[i][\"scores\"].items():\n",
    "        avg_arr.append(v)\n",
    "        \n",
    "    scores = sum(avg_arr)\n",
    "    length = len(avg_arr)\n",
    "        \n",
    "    avg = scores / length\n",
    "    dict_data[i][\"average\"] = avg\n",
    "    \n",
    "dict_data"
   ]
  },
  {
   "cell_type": "code",
   "execution_count": 6,
   "id": "29bdc143",
   "metadata": {},
   "outputs": [
    {
     "name": "stdout",
     "output_type": "stream",
     "text": [
      "manuel\n"
     ]
    }
   ],
   "source": [
    "for dicts in dict_data:\n",
    "    for k, v in dicts.items():\n",
    "        if k == \"class\" and v == \"ss2\":\n",
    "            print(dicts[\"name\"])"
   ]
  },
  {
   "cell_type": "code",
   "execution_count": 7,
   "id": "6d314b3e",
   "metadata": {},
   "outputs": [
    {
     "name": "stdout",
     "output_type": "stream",
     "text": [
      "tobi\n",
      "manuel\n"
     ]
    }
   ],
   "source": [
    "for dicts in dict_data:\n",
    "    for k in dicts:\n",
    "        if k == \"class\":\n",
    "            print(dicts[\"name\"])"
   ]
  },
  {
   "cell_type": "code",
   "execution_count": 19,
   "id": "17cc6677",
   "metadata": {},
   "outputs": [
    {
     "name": "stdout",
     "output_type": "stream",
     "text": [
      "55 = 1\n",
      "75 = 1\n",
      "95 = 1\n"
     ]
    }
   ],
   "source": [
    "tobi = dict_data[0]\n",
    "mod_arr = []\n",
    "\n",
    "for v in tobi[\"scores\"].values():\n",
    "    mod_arr.append(v)\n",
    "    \n",
    "mod_arr = sorted(mod_arr)\n",
    "\n",
    "for i in mod_arr:\n",
    "    counts = mod_arr.count(i)\n",
    "    print(f\"{i} = {counts}\")"
   ]
  }
 ],
 "metadata": {
  "kernelspec": {
   "display_name": "Python 3 (ipykernel)",
   "language": "python",
   "name": "python3"
  },
  "language_info": {
   "codemirror_mode": {
    "name": "ipython",
    "version": 3
   },
   "file_extension": ".py",
   "mimetype": "text/x-python",
   "name": "python",
   "nbconvert_exporter": "python",
   "pygments_lexer": "ipython3",
   "version": "3.9.12"
  }
 },
 "nbformat": 4,
 "nbformat_minor": 5
}
