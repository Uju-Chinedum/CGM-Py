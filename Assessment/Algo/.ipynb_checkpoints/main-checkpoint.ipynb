{
 "cells": [
  {
   "cell_type": "code",
   "execution_count": 1,
   "id": "b3c080d5",
   "metadata": {},
   "outputs": [
    {
     "name": "stdout",
     "output_type": "stream",
     "text": [
      "The Zen of Python, by Tim Peters\n",
      "\n",
      "Beautiful is better than ugly.\n",
      "Explicit is better than implicit.\n",
      "Simple is better than complex.\n",
      "Complex is better than complicated.\n",
      "Flat is better than nested.\n",
      "Sparse is better than dense.\n",
      "Readability counts.\n",
      "Special cases aren't special enough to break the rules.\n",
      "Although practicality beats purity.\n",
      "Errors should never pass silently.\n",
      "Unless explicitly silenced.\n",
      "In the face of ambiguity, refuse the temptation to guess.\n",
      "There should be one-- and preferably only one --obvious way to do it.\n",
      "Although that way may not be obvious at first unless you're Dutch.\n",
      "Now is better than never.\n",
      "Although never is often better than *right* now.\n",
      "If the implementation is hard to explain, it's a bad idea.\n",
      "If the implementation is easy to explain, it may be a good idea.\n",
      "Namespaces are one honking great idea -- let's do more of those!\n"
     ]
    }
   ],
   "source": [
    "import this"
   ]
  },
  {
   "cell_type": "markdown",
   "id": "95733c7d",
   "metadata": {},
   "source": [
    "# Notebook Imports"
   ]
  },
  {
   "cell_type": "code",
   "execution_count": 62,
   "id": "8cfcd44b",
   "metadata": {},
   "outputs": [],
   "source": [
    "import random\n",
    "from math import sin, cos, tan, floor, ceil"
   ]
  },
  {
   "cell_type": "markdown",
   "id": "2081b097",
   "metadata": {},
   "source": [
    "## Exercise 3.8"
   ]
  },
  {
   "cell_type": "code",
   "execution_count": 3,
   "id": "46ebdff7",
   "metadata": {},
   "outputs": [
    {
     "name": "stdout",
     "output_type": "stream",
     "text": [
      "3\n",
      "5\n",
      "6\n",
      "4\n",
      "6\n",
      "5\n",
      "6\n",
      "4\n",
      "4\n",
      "6\n",
      "4\n",
      "3\n",
      "4\n",
      "5\n",
      "4\n",
      "4\n",
      "4\n",
      "4\n",
      "3\n",
      "6\n",
      "4\n",
      "3\n",
      "6\n",
      "5\n",
      "4\n",
      "4\n",
      "4\n",
      "6\n",
      "3\n",
      "5\n",
      "3\n",
      "4\n",
      "5\n",
      "3\n",
      "6\n",
      "6\n",
      "6\n",
      "5\n",
      "6\n",
      "5\n",
      "5\n",
      "5\n",
      "3\n",
      "5\n",
      "5\n",
      "4\n",
      "3\n",
      "3\n",
      "6\n",
      "6\n"
     ]
    }
   ],
   "source": [
    "for num in range(50):\n",
    "    rand_num = random.randint(3, 6)\n",
    "    print(rand_num)"
   ]
  },
  {
   "cell_type": "code",
   "execution_count": 4,
   "id": "64826e2c",
   "metadata": {},
   "outputs": [
    {
     "data": {
      "text/plain": [
       "104976"
      ]
     },
     "execution_count": 4,
     "metadata": {},
     "output_type": "execute_result"
    }
   ],
   "source": [
    "x = random.randint(1, 50)\n",
    "y = random.randint(2, 5)\n",
    "x ** y"
   ]
  },
  {
   "cell_type": "code",
   "execution_count": 5,
   "id": "259c2736",
   "metadata": {},
   "outputs": [
    {
     "name": "stdout",
     "output_type": "stream",
     "text": [
      "Savadow\n",
      "Savadow\n",
      "Savadow\n",
      "Savadow\n",
      "Savadow\n",
      "Savadow\n",
      "Savadow\n"
     ]
    }
   ],
   "source": [
    "loop = random.randint(1, 10)\n",
    "for i in range(loop):\n",
    "    print(\"Savadow\")"
   ]
  },
  {
   "cell_type": "code",
   "execution_count": 6,
   "id": "b4e4352e",
   "metadata": {},
   "outputs": [
    {
     "data": {
      "text/plain": [
       "6.04"
      ]
     },
     "execution_count": 6,
     "metadata": {},
     "output_type": "execute_result"
    }
   ],
   "source": [
    "num = random.uniform(1, 10)\n",
    "round(num, 2)"
   ]
  },
  {
   "cell_type": "code",
   "execution_count": 7,
   "id": "c1864238",
   "metadata": {},
   "outputs": [
    {
     "name": "stdout",
     "output_type": "stream",
     "text": [
      "1\n",
      "2\n",
      "3\n",
      "5\n",
      "1\n",
      "7\n",
      "1\n",
      "1\n",
      "9\n",
      "8\n",
      "7\n",
      "10\n",
      "9\n",
      "2\n",
      "8\n",
      "13\n",
      "5\n",
      "13\n",
      "1\n",
      "8\n",
      "7\n",
      "3\n",
      "21\n",
      "19\n",
      "18\n",
      "24\n",
      "3\n",
      "16\n",
      "17\n",
      "29\n",
      "7\n",
      "30\n",
      "16\n",
      "6\n",
      "10\n",
      "24\n",
      "21\n",
      "13\n",
      "27\n",
      "27\n",
      "12\n",
      "3\n",
      "5\n",
      "23\n",
      "36\n",
      "8\n",
      "22\n",
      "6\n",
      "23\n",
      "15\n"
     ]
    }
   ],
   "source": [
    "for num in range(1, 51):\n",
    "    val = random.randint(1, num + 1)\n",
    "    print(val)"
   ]
  },
  {
   "cell_type": "code",
   "execution_count": 8,
   "id": "f49e5350",
   "metadata": {},
   "outputs": [
    {
     "name": "stdout",
     "output_type": "stream",
     "text": [
      "Enter a x-value: -2000000000000\n",
      "Enter a y-value: 5555\n"
     ]
    },
    {
     "data": {
      "text/plain": [
       "-1.000000005555"
      ]
     },
     "execution_count": 8,
     "metadata": {},
     "output_type": "execute_result"
    }
   ],
   "source": [
    "x = int(input(\"Enter an x-value: \"))\n",
    "y = int(input(\"Enter a y-value: \"))\n",
    "num = x - y\n",
    "\n",
    "if num < 0 :\n",
    "    num *= -1\n",
    "\n",
    "denom = x + y\n",
    "ans = num / denom\n",
    "ans"
   ]
  },
  {
   "cell_type": "code",
   "execution_count": 9,
   "id": "dbe4f0fe",
   "metadata": {},
   "outputs": [],
   "source": [
    "# Still haven't figured it out"
   ]
  },
  {
   "cell_type": "code",
   "execution_count": 10,
   "id": "34f68d76",
   "metadata": {},
   "outputs": [
    {
     "name": "stdout",
     "output_type": "stream",
     "text": [
      "Enter a time in seconds: 295723\n",
      "4928 minutes and 43 seconds.\n"
     ]
    }
   ],
   "source": [
    "time = int(input(\"Enter a time in seconds: \"))\n",
    "minutes = time // 60\n",
    "seconds = time % 60\n",
    "print(f\"{minutes} minutes and {seconds} seconds.\")"
   ]
  },
  {
   "cell_type": "code",
   "execution_count": 11,
   "id": "4936d4a8",
   "metadata": {},
   "outputs": [
    {
     "name": "stdout",
     "output_type": "stream",
     "text": [
      "Enter an hour between 1 and 12: 3\n",
      "How far into the future do you want to go: 874\n",
      "1 o'clock\n"
     ]
    }
   ],
   "source": [
    "hour = int(input(\"Enter an hour between 1 and 12: \"))\n",
    "future = int(input(\"How far into the future do you want to go: \"))\n",
    "new_time = hour + future\n",
    "\n",
    "if new_time > 12:\n",
    "    new_time %= 12\n",
    "    \n",
    "print(f\"{new_time} o'clock\")"
   ]
  },
  {
   "cell_type": "code",
   "execution_count": 12,
   "id": "aed33a20",
   "metadata": {},
   "outputs": [
    {
     "name": "stdout",
     "output_type": "stream",
     "text": [
      "Enter a power: 10\n"
     ]
    },
    {
     "data": {
      "text/plain": [
       "4"
      ]
     },
     "execution_count": 12,
     "metadata": {},
     "output_type": "execute_result"
    }
   ],
   "source": [
    "power = int(input(\"Enter a power: \"))\n",
    "query = 2 ** power\n",
    "query % 10"
   ]
  },
  {
   "cell_type": "code",
   "execution_count": 13,
   "id": "dd86783a",
   "metadata": {},
   "outputs": [
    {
     "name": "stdout",
     "output_type": "stream",
     "text": [
      "Enter a power: 10\n"
     ]
    },
    {
     "data": {
      "text/plain": [
       "24"
      ]
     },
     "execution_count": 13,
     "metadata": {},
     "output_type": "execute_result"
    }
   ],
   "source": [
    "power = int(input(\"Enter a power: \"))\n",
    "query = 2 ** power\n",
    "query % 100"
   ]
  },
  {
   "cell_type": "code",
   "execution_count": 14,
   "id": "6c46d81b",
   "metadata": {},
   "outputs": [
    {
     "name": "stdout",
     "output_type": "stream",
     "text": [
      "Enter a power: 10\n",
      "How many digits do you want: 4\n"
     ]
    },
    {
     "data": {
      "text/plain": [
       "1024"
      ]
     },
     "execution_count": 14,
     "metadata": {},
     "output_type": "execute_result"
    }
   ],
   "source": [
    "power = int(input(\"Enter a power: \"))\n",
    "remains = int(input(\"How many digits do you want: \"))\n",
    "query = 2 ** power\n",
    "query % (10 ** remains)"
   ]
  },
  {
   "cell_type": "code",
   "execution_count": 15,
   "id": "75a5ff41",
   "metadata": {},
   "outputs": [
    {
     "name": "stdout",
     "output_type": "stream",
     "text": [
      "Enter a weight in kilograms: 35.7\n",
      "78.7 pounds\n"
     ]
    }
   ],
   "source": [
    "kg = float(input(\"Enter a weight in kilograms: \"))\n",
    "lb = kg * 2.2046\n",
    "print(f\"{round(lb, 1)} pounds\")"
   ]
  },
  {
   "cell_type": "code",
   "execution_count": 17,
   "id": "18e37611",
   "metadata": {},
   "outputs": [
    {
     "name": "stdout",
     "output_type": "stream",
     "text": [
      "Enter a number: 45\n"
     ]
    },
    {
     "data": {
      "text/plain": [
       "119622220865480194561963161495657715064383733760000000000"
      ]
     },
     "execution_count": 17,
     "metadata": {},
     "output_type": "execute_result"
    }
   ],
   "source": [
    "number = int(input(\"Enter a number: \"))  # Please not upto 2000, not optimized yet😅😅\n",
    "fact = 1\n",
    "\n",
    "for num in range(1, number + 1):\n",
    "    fact *= num\n",
    "    \n",
    "fact"
   ]
  },
  {
   "cell_type": "code",
   "execution_count": 18,
   "id": "fdd32aae",
   "metadata": {},
   "outputs": [
    {
     "name": "stdout",
     "output_type": "stream",
     "text": [
      "Enter a number: 46.89\n"
     ]
    },
    {
     "data": {
      "text/plain": [
       "{'Sine': 0.2317631605600159,\n",
       " 'Cosine': -0.972772243337171,\n",
       " 'Tangent': -0.23825017844355253}"
      ]
     },
     "execution_count": 18,
     "metadata": {},
     "output_type": "execute_result"
    }
   ],
   "source": [
    "# Note: It assumes the number is in radians\n",
    "number = float(input(\"Enter a number: \"))\n",
    "ans = {\n",
    "    \"Sine\": sin(number), \n",
    "    \"Cosine\": cos(number), \n",
    "    \"Tangent\": tan(number)\n",
    "}\n",
    "\n",
    "ans"
   ]
  },
  {
   "cell_type": "code",
   "execution_count": 19,
   "id": "20360193",
   "metadata": {},
   "outputs": [
    {
     "name": "stdout",
     "output_type": "stream",
     "text": [
      "Enter a number in degrees: 1718.8\n"
     ]
    },
    {
     "data": {
      "text/plain": [
       "-0.3417876867238042"
      ]
     },
     "execution_count": 19,
     "metadata": {},
     "output_type": "execute_result"
    }
   ],
   "source": [
    "# Remember to convert num to rad \n",
    "number = float(input(\"Enter a number in degrees: \"))\n",
    "sin(number)"
   ]
  },
  {
   "cell_type": "markdown",
   "id": "db63026f",
   "metadata": {},
   "source": [
    "## Exercise 4.5"
   ]
  },
  {
   "cell_type": "code",
   "execution_count": 21,
   "id": "21171553",
   "metadata": {},
   "outputs": [
    {
     "name": "stdout",
     "output_type": "stream",
     "text": [
      "Enter a length in centimetres: -3\n",
      "Invalid Entry\n"
     ]
    }
   ],
   "source": [
    "cm = float(input(\"Enter a length in centimetres: \"))\n",
    "\n",
    "if cm < 0:\n",
    "    print(\"Invalid Entry\")\n",
    "else:\n",
    "    inches = cm * 2.54\n",
    "    print(inches)"
   ]
  },
  {
   "cell_type": "code",
   "execution_count": 31,
   "id": "fb2d0658",
   "metadata": {},
   "outputs": [
    {
     "name": "stdout",
     "output_type": "stream",
     "text": [
      "Enter a temperature: 43\n",
      "What unit of temperature (C/F): C\n",
      "109.4 degrees Fahrenheit\n"
     ]
    }
   ],
   "source": [
    "temp = float(input(\"Enter a temperature: \"))\n",
    "unit = input(\"What unit of temperature (C/F): \").upper()\n",
    "\n",
    "if unit == \"C\":\n",
    "    F = ((9 / 5) * temp) + 32\n",
    "    print(f\"{round(F, 1)} degrees Fahrenheit\")\n",
    "\n",
    "elif unit == \"F\":\n",
    "    C = (5 / 9) * (temp - 32)\n",
    "    print(f\"{round(C, 1)} degrees Celcius\")\n",
    "    \n",
    "else:\n",
    "    print(\"Invalid Unit\")"
   ]
  },
  {
   "cell_type": "code",
   "execution_count": 33,
   "id": "dd0fa743",
   "metadata": {},
   "outputs": [
    {
     "name": "stdout",
     "output_type": "stream",
     "text": [
      "Enter a temperature in Celsius: 44.4\n",
      "Normal Range\n"
     ]
    }
   ],
   "source": [
    "cel = float(input(\"Enter a temperature in Celsius: \"))\n",
    "\n",
    "if cel < -273.15:\n",
    "    print(\"Temperature Invalid. Below Absolute Zero!!\")\n",
    "elif cel == 273.15:\n",
    "    print(\"Absolute Zero\")\n",
    "elif cel > -273.15 and cel < 0:\n",
    "    print(\"Below Freezing\")\n",
    "elif cel == 0:\n",
    "    print(\"Freezing Point\")\n",
    "elif cel > 0 and cel < 100:\n",
    "    print(\"Normal Range\")\n",
    "elif cel == 100:\n",
    "    print(\"Boiling Point\")\n",
    "else:\n",
    "    print(\"Above Boiling Point\")"
   ]
  },
  {
   "cell_type": "code",
   "execution_count": 34,
   "id": "5e127ccd",
   "metadata": {},
   "outputs": [
    {
     "name": "stdout",
     "output_type": "stream",
     "text": [
      "How many credits have you taken: 56\n",
      "Junior\n"
     ]
    }
   ],
   "source": [
    "creds = int(input(\"How many credits have you taken: \"))\n",
    "\n",
    "if creds <= 23:\n",
    "    print(\"Freshman\")\n",
    "elif creds >= 24 and creds <= 53:\n",
    "    print(\"Sophomore\")\n",
    "elif creds >= 54 and creds <= 83:\n",
    "    print(\"Junior\")\n",
    "else:\n",
    "    print(\"Senior\")"
   ]
  },
  {
   "cell_type": "code",
   "execution_count": 35,
   "id": "42aa293b",
   "metadata": {},
   "outputs": [
    {
     "name": "stdout",
     "output_type": "stream",
     "text": [
      "Enter a number: 45\n"
     ]
    },
    {
     "data": {
      "text/plain": [
       "78"
      ]
     },
     "execution_count": 35,
     "metadata": {},
     "output_type": "execute_result"
    }
   ],
   "source": [
    "number = int(input(\"Enter a number: \"))\n",
    "\n",
    "div = []\n",
    "for num in range(1, number + 1):\n",
    "    if number % num == 0:\n",
    "        div.append(num)\n",
    "        \n",
    "sum(div)"
   ]
  },
  {
   "cell_type": "code",
   "execution_count": 39,
   "id": "077c9a22",
   "metadata": {},
   "outputs": [
    {
     "name": "stdout",
     "output_type": "stream",
     "text": [
      "6\n",
      "28\n",
      "496\n",
      "8128\n"
     ]
    }
   ],
   "source": [
    "for number in range(1, 10000):\n",
    "    div = []\n",
    "    for num in range(1, number):\n",
    "        if number % num == 0:\n",
    "            div.append(num)\n",
    "\n",
    "    if sum(div) == number:\n",
    "        print(number)"
   ]
  },
  {
   "cell_type": "code",
   "execution_count": 64,
   "id": "1f8d7e41",
   "metadata": {},
   "outputs": [
    {
     "name": "stdout",
     "output_type": "stream",
     "text": [
      "Enter a number: 45\n",
      "Not Squarefree\n"
     ]
    }
   ],
   "source": [
    "number = int(input(\"Enter a number: \"))\n",
    "\n",
    "div = []\n",
    "for num in range(1, number + 1):\n",
    "    if number % num == 0:\n",
    "        div.append(num)\n",
    "\n",
    "nsqn = [1]\n",
    "for i in div[1:]:\n",
    "    sq = floor(i ** 0.5)\n",
    "    if sq ** 2 != i:\n",
    "        nsqn.append(i)\n",
    "\n",
    "if len(nsqn) == len(div):\n",
    "    print(\"Squarefree\")\n",
    "else:\n",
    "    print(\"Not Squarefree\")"
   ]
  },
  {
   "cell_type": "code",
   "execution_count": 65,
   "id": "d149a533",
   "metadata": {},
   "outputs": [
    {
     "name": "stdout",
     "output_type": "stream",
     "text": [
      "Enter a value: 3\n",
      "Enter a value: 4\n",
      "Enter a value: 5\n",
      "4 5 3\n"
     ]
    }
   ],
   "source": [
    "x = input(\"Enter x value: \")\n",
    "y = input(\"Enter y value: \")\n",
    "z = input(\"Enter z value: \")\n",
    "container = x\n",
    "\n",
    "x = y\n",
    "y = z\n",
    "z = container\n",
    "\n",
    "print(x, y, z)"
   ]
  },
  {
   "cell_type": "code",
   "execution_count": 67,
   "id": "d514a5bd",
   "metadata": {},
   "outputs": [
    {
     "name": "stdout",
     "output_type": "stream",
     "text": [
      "{'Squares': 969, 'Cubes': 990, 'Fifths': 997}\n"
     ]
    }
   ],
   "source": [
    "perfect_squares = 0\n",
    "perfect_cubes = 0\n",
    "perfect_fifths = 0\n",
    "\n",
    "for number in range(1, 1001):\n",
    "    square = floor(number ** 0.5)\n",
    "    cube = ceil(number ** (1 / 3))\n",
    "    fifth = floor(number ** (1 / 5))\n",
    "    \n",
    "    if square ** 2 != number:\n",
    "        perfect_squares += 1\n",
    "        \n",
    "    if cube ** 3 != number:\n",
    "        perfect_cubes += 1\n",
    "        \n",
    "    if fifth ** 5 != number:\n",
    "        perfect_fifths += 1\n",
    "        \n",
    "print({\n",
    "    \"Squares\": perfect_squares,\n",
    "    \"Cubes\": perfect_cubes,\n",
    "    \"Fifths\": perfect_fifths\n",
    "})"
   ]
  },
  {
   "cell_type": "code",
   "execution_count": 110,
   "id": "d95b1fff",
   "metadata": {},
   "outputs": [
    {
     "name": "stdout",
     "output_type": "stream",
     "text": [
      "Enter test score: 1\n",
      "Enter test score: 2\n",
      "Enter test score: 3\n",
      "Enter test score: 4\n",
      "Enter test score: 5\n",
      "Enter test score: 6\n",
      "Enter test score: 7\n",
      "Enter test score: 8\n",
      "Enter test score: 9\n",
      "Enter test score: 10\n"
     ]
    }
   ],
   "source": [
    "scores = []\n",
    "\n",
    "for i in range(10):\n",
    "    score = int(input(\"Enter test score: \"))\n",
    "    scores.append(score)"
   ]
  },
  {
   "cell_type": "code",
   "execution_count": 111,
   "id": "aa2b5acd",
   "metadata": {},
   "outputs": [
    {
     "name": "stdout",
     "output_type": "stream",
     "text": [
      "(10, 1)\n"
     ]
    }
   ],
   "source": [
    "highest = scores[0]\n",
    "lowest = scores[0]\n",
    "\n",
    "for score in scores:\n",
    "    if score > highest:\n",
    "        highest = score\n",
    "    elif score < lowest:\n",
    "        lowest = score\n",
    "        \n",
    "print((highest, lowest))"
   ]
  },
  {
   "cell_type": "code",
   "execution_count": 112,
   "id": "0daa08a7",
   "metadata": {},
   "outputs": [
    {
     "data": {
      "text/plain": [
       "5.5"
      ]
     },
     "execution_count": 112,
     "metadata": {},
     "output_type": "execute_result"
    }
   ],
   "source": [
    "total = 0\n",
    "count = 0\n",
    "\n",
    "for score in scores:\n",
    "    total += score\n",
    "    count += 1\n",
    "    \n",
    "avg = total / count\n",
    "avg"
   ]
  },
  {
   "cell_type": "code",
   "execution_count": 113,
   "id": "f4b589ed",
   "metadata": {},
   "outputs": [
    {
     "data": {
      "text/plain": [
       "9"
      ]
     },
     "execution_count": 113,
     "metadata": {},
     "output_type": "execute_result"
    }
   ],
   "source": [
    "scores.sort(reverse = True)\n",
    "scores[1]"
   ]
  },
  {
   "cell_type": "code",
   "execution_count": 114,
   "id": "acf86397",
   "metadata": {},
   "outputs": [],
   "source": [
    "for score in scores:\n",
    "    if score > 100:\n",
    "        print(score, \"is invalid\")"
   ]
  },
  {
   "cell_type": "code",
   "execution_count": 117,
   "id": "56e1426f",
   "metadata": {},
   "outputs": [],
   "source": [
    "scores.remove(scores[-1])\n",
    "scores.remove(scores[-1])\n",
    "\n",
    "avg = sum(scores) / len(scores)"
   ]
  }
 ],
 "metadata": {
  "kernelspec": {
   "display_name": "Python 3 (ipykernel)",
   "language": "python",
   "name": "python3"
  },
  "language_info": {
   "codemirror_mode": {
    "name": "ipython",
    "version": 3
   },
   "file_extension": ".py",
   "mimetype": "text/x-python",
   "name": "python",
   "nbconvert_exporter": "python",
   "pygments_lexer": "ipython3",
   "version": "3.9.12"
  }
 },
 "nbformat": 4,
 "nbformat_minor": 5
}
