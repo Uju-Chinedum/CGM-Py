{
 "cells": [
  {
   "cell_type": "code",
   "execution_count": 2,
   "id": "b3c080d5",
   "metadata": {},
   "outputs": [
    {
     "name": "stdout",
     "output_type": "stream",
     "text": [
      "The Zen of Python, by Tim Peters\n",
      "\n",
      "Beautiful is better than ugly.\n",
      "Explicit is better than implicit.\n",
      "Simple is better than complex.\n",
      "Complex is better than complicated.\n",
      "Flat is better than nested.\n",
      "Sparse is better than dense.\n",
      "Readability counts.\n",
      "Special cases aren't special enough to break the rules.\n",
      "Although practicality beats purity.\n",
      "Errors should never pass silently.\n",
      "Unless explicitly silenced.\n",
      "In the face of ambiguity, refuse the temptation to guess.\n",
      "There should be one-- and preferably only one --obvious way to do it.\n",
      "Although that way may not be obvious at first unless you're Dutch.\n",
      "Now is better than never.\n",
      "Although never is often better than *right* now.\n",
      "If the implementation is hard to explain, it's a bad idea.\n",
      "If the implementation is easy to explain, it may be a good idea.\n",
      "Namespaces are one honking great idea -- let's do more of those!\n"
     ]
    }
   ],
   "source": [
    "import this"
   ]
  },
  {
   "cell_type": "markdown",
   "id": "95733c7d",
   "metadata": {},
   "source": [
    "# Notebook Imports"
   ]
  },
  {
   "cell_type": "code",
   "execution_count": 3,
   "id": "8cfcd44b",
   "metadata": {},
   "outputs": [],
   "source": [
    "import random"
   ]
  },
  {
   "cell_type": "markdown",
   "id": "2081b097",
   "metadata": {},
   "source": [
    "## Exercise 3.8"
   ]
  },
  {
   "cell_type": "code",
   "execution_count": 4,
   "id": "46ebdff7",
   "metadata": {},
   "outputs": [
    {
     "name": "stdout",
     "output_type": "stream",
     "text": [
      "5\n",
      "5\n",
      "6\n",
      "3\n",
      "5\n",
      "6\n",
      "6\n",
      "4\n",
      "3\n",
      "3\n",
      "3\n",
      "4\n",
      "4\n",
      "6\n",
      "6\n",
      "4\n",
      "6\n",
      "3\n",
      "4\n",
      "3\n",
      "6\n",
      "6\n",
      "3\n",
      "5\n",
      "6\n",
      "4\n",
      "5\n",
      "5\n",
      "4\n",
      "6\n",
      "6\n",
      "3\n",
      "4\n",
      "4\n",
      "3\n",
      "4\n",
      "3\n",
      "5\n",
      "3\n",
      "4\n",
      "3\n",
      "5\n",
      "3\n",
      "6\n",
      "4\n",
      "5\n",
      "5\n",
      "5\n",
      "4\n",
      "4\n"
     ]
    }
   ],
   "source": [
    "for num in range(50):\n",
    "    rand_num = random.randint(3, 6)\n",
    "    print(rand_num)"
   ]
  },
  {
   "cell_type": "code",
   "execution_count": 5,
   "id": "64826e2c",
   "metadata": {},
   "outputs": [
    {
     "data": {
      "text/plain": [
       "9261"
      ]
     },
     "execution_count": 5,
     "metadata": {},
     "output_type": "execute_result"
    }
   ],
   "source": [
    "x = random.randint(1, 50)\n",
    "y = random.randint(2, 5)\n",
    "x ** y"
   ]
  },
  {
   "cell_type": "code",
   "execution_count": 6,
   "id": "259c2736",
   "metadata": {},
   "outputs": [
    {
     "name": "stdout",
     "output_type": "stream",
     "text": [
      "Savadow\n",
      "Savadow\n",
      "Savadow\n",
      "Savadow\n"
     ]
    }
   ],
   "source": [
    "loop = random.randint(1, 10)\n",
    "for i in range(loop):\n",
    "    print(\"Savadow\")"
   ]
  },
  {
   "cell_type": "code",
   "execution_count": 7,
   "id": "b4e4352e",
   "metadata": {},
   "outputs": [
    {
     "data": {
      "text/plain": [
       "6.88"
      ]
     },
     "execution_count": 7,
     "metadata": {},
     "output_type": "execute_result"
    }
   ],
   "source": [
    "num = random.uniform(1, 10)\n",
    "round(num, 2)"
   ]
  },
  {
   "cell_type": "code",
   "execution_count": 9,
   "id": "c1864238",
   "metadata": {},
   "outputs": [
    {
     "name": "stdout",
     "output_type": "stream",
     "text": [
      "1\n",
      "2\n",
      "4\n",
      "2\n",
      "5\n",
      "4\n",
      "5\n",
      "6\n",
      "9\n",
      "8\n",
      "6\n",
      "3\n",
      "2\n",
      "9\n",
      "10\n",
      "13\n",
      "18\n",
      "17\n",
      "1\n",
      "12\n",
      "22\n",
      "13\n",
      "19\n",
      "19\n",
      "4\n",
      "24\n",
      "8\n",
      "6\n",
      "26\n",
      "17\n",
      "20\n",
      "24\n",
      "19\n",
      "21\n",
      "6\n",
      "30\n",
      "31\n",
      "2\n",
      "39\n",
      "15\n",
      "1\n",
      "20\n",
      "23\n",
      "13\n",
      "7\n",
      "41\n",
      "10\n",
      "26\n",
      "20\n",
      "11\n"
     ]
    }
   ],
   "source": [
    "for num in range(1, 51):\n",
    "    val = random.randint(1, num + 1)\n",
    "    print(val)"
   ]
  },
  {
   "cell_type": "code",
   "execution_count": 11,
   "id": "f49e5350",
   "metadata": {},
   "outputs": [
    {
     "name": "stdout",
     "output_type": "stream",
     "text": [
      "Enter a number: 2\n",
      "Enter a number: 3\n"
     ]
    },
    {
     "data": {
      "text/plain": [
       "0.2"
      ]
     },
     "execution_count": 11,
     "metadata": {},
     "output_type": "execute_result"
    }
   ],
   "source": [
    "x = int(input(\"Enter a number: \"))\n",
    "y = int(input(\"Enter a number: \"))\n",
    "num = x - y\n",
    "\n",
    "if num < 0 :\n",
    "    num *= -1\n",
    "\n",
    "denom = x + y\n",
    "ans = num / denom\n",
    "ans"
   ]
  },
  {
   "cell_type": "code",
   "execution_count": 12,
   "id": "dbe4f0fe",
   "metadata": {},
   "outputs": [],
   "source": [
    "# Still haven't figured it out"
   ]
  },
  {
   "cell_type": "code",
   "execution_count": 13,
   "id": "34f68d76",
   "metadata": {},
   "outputs": [
    {
     "name": "stdout",
     "output_type": "stream",
     "text": [
      "Enter a time in seconds: 200\n",
      "3 minutes and 20 seconds.\n"
     ]
    }
   ],
   "source": [
    "time = int(input(\"Enter a time in seconds: \"))\n",
    "minutes = time // 60\n",
    "seconds = time % 60\n",
    "print(f\"{minutes} minutes and {seconds} seconds.\")"
   ]
  },
  {
   "cell_type": "code",
   "execution_count": 15,
   "id": "4936d4a8",
   "metadata": {},
   "outputs": [
    {
     "name": "stdout",
     "output_type": "stream",
     "text": [
      "Enter an hour between 1 and 12: 12\n",
      "How far into the future do you want to go: 2\n",
      "2 o'clock\n"
     ]
    }
   ],
   "source": [
    "hour = int(input(\"Enter an hour between 1 and 12: \"))\n",
    "future = int(input(\"How far into the future do you want to go: \"))\n",
    "new_time = hour + future\n",
    "\n",
    "if new_time > 12:\n",
    "    new_time %= 12\n",
    "    \n",
    "print(f\"{new_time} o'clock\")"
   ]
  },
  {
   "cell_type": "code",
   "execution_count": null,
   "id": "aed33a20",
   "metadata": {},
   "outputs": [],
   "source": []
  }
 ],
 "metadata": {
  "kernelspec": {
   "display_name": "Python 3 (ipykernel)",
   "language": "python",
   "name": "python3"
  },
  "language_info": {
   "codemirror_mode": {
    "name": "ipython",
    "version": 3
   },
   "file_extension": ".py",
   "mimetype": "text/x-python",
   "name": "python",
   "nbconvert_exporter": "python",
   "pygments_lexer": "ipython3",
   "version": "3.9.12"
  }
 },
 "nbformat": 4,
 "nbformat_minor": 5
}
