{
 "cells": [
  {
   "cell_type": "code",
   "execution_count": 91,
   "id": "be955395",
   "metadata": {},
   "outputs": [],
   "source": [
    "import this"
   ]
  },
  {
   "cell_type": "markdown",
   "id": "90c0cf69",
   "metadata": {},
   "source": [
    "# Let's Learn!!"
   ]
  },
  {
   "cell_type": "code",
   "execution_count": 92,
   "id": "8c7e4559",
   "metadata": {},
   "outputs": [],
   "source": [
    "array = [3, 5, \"timi\", 3, \"jane\", 5, 4, 3, 4, 3, 3,\"timi\"]"
   ]
  },
  {
   "cell_type": "code",
   "execution_count": 93,
   "id": "e789c96f",
   "metadata": {},
   "outputs": [
    {
     "name": "stdout",
     "output_type": "stream",
     "text": [
      "{3: 5, 5: 2, 'timi': 2, 'jane': 1, 4: 2}\n"
     ]
    }
   ],
   "source": [
    "dict_arr = {}\n",
    "for n in array:\n",
    "    dict_arr[n] = dict_arr.get(n,0)+1\n",
    "print(dict_arr)"
   ]
  },
  {
   "cell_type": "code",
   "execution_count": 94,
   "id": "cd8ed7ec",
   "metadata": {},
   "outputs": [
    {
     "name": "stdout",
     "output_type": "stream",
     "text": [
      "[5, 2, 2, 1, 2]\n"
     ]
    }
   ],
   "source": [
    "counts = []\n",
    "for i, j in dict_arr.items():\n",
    "    counts.append(j)\n",
    "print(counts)"
   ]
  },
  {
   "cell_type": "code",
   "execution_count": 95,
   "id": "14cb1a2d",
   "metadata": {},
   "outputs": [
    {
     "name": "stdout",
     "output_type": "stream",
     "text": [
      "5\n"
     ]
    }
   ],
   "source": [
    "d_max = counts[0]\n",
    "for i in counts:\n",
    "    if i > d_max:\n",
    "        d_max = i\n",
    "print(d_max)"
   ]
  },
  {
   "cell_type": "code",
   "execution_count": 96,
   "id": "58ae040a",
   "metadata": {},
   "outputs": [
    {
     "name": "stdout",
     "output_type": "stream",
     "text": [
      "3\n"
     ]
    }
   ],
   "source": [
    "for k, n in dict_arr.items():\n",
    "    if n == d_max:\n",
    "        print(k)"
   ]
  },
  {
   "cell_type": "code",
   "execution_count": 97,
   "id": "39500cdd",
   "metadata": {},
   "outputs": [],
   "source": [
    "counts.sort()"
   ]
  },
  {
   "cell_type": "code",
   "execution_count": 98,
   "id": "c7a467d2",
   "metadata": {},
   "outputs": [
    {
     "name": "stdout",
     "output_type": "stream",
     "text": [
      "[1, 2, 2, 2, 5]\n"
     ]
    }
   ],
   "source": [
    "print(counts)"
   ]
  },
  {
   "cell_type": "code",
   "execution_count": 99,
   "id": "8933fee7",
   "metadata": {},
   "outputs": [],
   "source": [
    "counts.reverse()"
   ]
  },
  {
   "cell_type": "code",
   "execution_count": 100,
   "id": "87a16f72",
   "metadata": {},
   "outputs": [
    {
     "data": {
      "text/plain": [
       "[5, 2, 2, 2, 1]"
      ]
     },
     "execution_count": 100,
     "metadata": {},
     "output_type": "execute_result"
    }
   ],
   "source": [
    "counts"
   ]
  },
  {
   "cell_type": "code",
   "execution_count": 101,
   "id": "de18ca46",
   "metadata": {},
   "outputs": [
    {
     "data": {
      "text/plain": [
       "{3: 5, 5: 2, 'timi': 2, 'jane': 1, 4: 2}"
      ]
     },
     "execution_count": 101,
     "metadata": {},
     "output_type": "execute_result"
    }
   ],
   "source": [
    "dict_arr"
   ]
  },
  {
   "cell_type": "code",
   "execution_count": 109,
   "id": "66914067",
   "metadata": {},
   "outputs": [],
   "source": [
    "##while loops"
   ]
  },
  {
   "cell_type": "code",
   "execution_count": 125,
   "id": "70d6beac",
   "metadata": {},
   "outputs": [
    {
     "name": "stdout",
     "output_type": "stream",
     "text": [
      "10\n",
      "11\n",
      "12\n",
      "13\n",
      "14\n",
      "15\n",
      "16\n",
      "17\n",
      "18\n",
      "19\n"
     ]
    }
   ],
   "source": [
    "i = 10\n",
    "while i < 20:\n",
    "    print(i)\n",
    "    i = i + 1\n",
    "    #print(i)"
   ]
  },
  {
   "cell_type": "code",
   "execution_count": 118,
   "id": "b8421be6",
   "metadata": {},
   "outputs": [
    {
     "name": "stdout",
     "output_type": "stream",
     "text": [
      "enter guess: 6\n",
      "guess again!\n",
      "enter guess: 8\n",
      "guess again!\n",
      "enter guess: 11\n",
      "guess again!\n",
      "game over!!!\n"
     ]
    }
   ],
   "source": [
    "guess_here = 10\n",
    "guess_count = 0\n",
    "number_guess = 3\n",
    "\n",
    "while guess_count < number_guess:\n",
    "    guess = int(input(\"enter guess: \"))\n",
    "    guess_count = guess_count + 1\n",
    "    if guess_here == guess:\n",
    "        print(\"your guess was right\")\n",
    "    else:\n",
    "        print(\"guess again!\")\n",
    "else:\n",
    "    print(\"game over!!!\")\n",
    "    "
   ]
  },
  {
   "cell_type": "code",
   "execution_count": 120,
   "id": "be0982e4",
   "metadata": {},
   "outputs": [
    {
     "name": "stdout",
     "output_type": "stream",
     "text": [
      "The sum is 165\n"
     ]
    }
   ],
   "source": [
    "n = 20\n",
    "sum = 0\n",
    "i = 10\n",
    "while i <= n:\n",
    "    sum = sum + i\n",
    "    i = i+1 \n",
    "print(\"The sum is\", sum)"
   ]
  },
  {
   "cell_type": "code",
   "execution_count": 126,
   "id": "06098db5",
   "metadata": {},
   "outputs": [
    {
     "name": "stdout",
     "output_type": "stream",
     "text": [
      "[{'name': 'tobi', 'scores': {'eng': 50, 'math': 70, 'econs': 95}, 'class': 'ss1', 'family': 'both'}, {'name': 'manuel', 'scores': {'eng': 44, 'math': 65, 'econs': 79}, 'class': 'ss2', 'family': 'single'}]\n"
     ]
    }
   ],
   "source": [
    "dict_data =[{\"name\":\"tobi\", \"scores\": {\"eng\": 55,\n",
    "                                      \"math\": 75,\n",
    "                                      \"econs\":95},\n",
    "            \"class\": \"ss1\",\n",
    "            \"family\" : \"both\"},\n",
    "            {\"name\": \"manuel\", \"scores\": {\"eng\": 44,\n",
    "                                         \"math\": 65,\n",
    "                                         \"econs\": 79 },\n",
    "            \"class\": \"ss2\",\n",
    "            \"family\": \"single\"}]\n",
    "print(dict_data)"
   ]
  },
  {
   "cell_type": "code",
   "execution_count": null,
   "id": "a1af118b",
   "metadata": {},
   "outputs": [],
   "source": [
    "# 1. find the average scores for each of the student\n",
    "# 2. add that average score inside the dictionary i.e : \"average\" : 50\n",
    "# 3. write a query that will select all students in a. ss2\n",
    "# b. both\n",
    "# 4. what is the modal score for tobi"
   ]
  },
  {
   "cell_type": "code",
   "execution_count": 135,
   "id": "52dd0559",
   "metadata": {},
   "outputs": [
    {
     "name": "stdout",
     "output_type": "stream",
     "text": [
      "[[50, 70, 95], [44, 65, 79]]\n"
     ]
    }
   ],
   "source": [
    "new_scores = []\n",
    "for i in dict_data:\n",
    "    arr = []\n",
    "    score_vals = i[\"scores\"]\n",
    "    for n, j in score_vals.items():\n",
    "        arr.append(j)\n",
    "    new_scores.append(arr)\n",
    "print(new_scores)"
   ]
  },
  {
   "cell_type": "code",
   "execution_count": null,
   "id": "3f9e8aee",
   "metadata": {},
   "outputs": [],
   "source": []
  }
 ],
 "metadata": {
  "kernelspec": {
   "display_name": "Python 3 (ipykernel)",
   "language": "python",
   "name": "python3"
  },
  "language_info": {
   "codemirror_mode": {
    "name": "ipython",
    "version": 3
   },
   "file_extension": ".py",
   "mimetype": "text/x-python",
   "name": "python",
   "nbconvert_exporter": "python",
   "pygments_lexer": "ipython3",
   "version": "3.9.7"
  }
 },
 "nbformat": 4,
 "nbformat_minor": 5
}
